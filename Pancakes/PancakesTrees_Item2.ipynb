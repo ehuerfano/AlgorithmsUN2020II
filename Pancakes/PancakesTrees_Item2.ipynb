{
  "nbformat": 4,
  "nbformat_minor": 0,
  "metadata": {
    "colab": {
      "name": "PancakesTrees_Item2.ipynb",
      "provenance": [],
      "collapsed_sections": []
    },
    "kernelspec": {
      "name": "python3",
      "display_name": "Python 3"
    }
  },
  "cells": [
    {
      "cell_type": "markdown",
      "metadata": {
        "id": "Z6vwCqD_geRB"
      },
      "source": [
        "- Edison Camilo Huérfano Villalba"
      ]
    },
    {
      "cell_type": "markdown",
      "metadata": {
        "id": "QKMK85W2i_Fl"
      },
      "source": [
        "1. Modify the PancakesTrees.ipynb code in your own to plot the Pancake Network and calculate Pn for smal n‘s."
      ]
    },
    {
      "cell_type": "code",
      "metadata": {
        "id": "2_flxadpt369",
        "colab": {
          "base_uri": "https://localhost:8080/"
        },
        "outputId": "779041e6-1831-4db9-8ae8-8a4262d2c9ba"
      },
      "source": [
        "from google.colab import drive\n",
        "drive.mount('/content/drive')"
      ],
      "execution_count": 1,
      "outputs": [
        {
          "output_type": "stream",
          "text": [
            "Drive already mounted at /content/drive; to attempt to forcibly remount, call drive.mount(\"/content/drive\", force_remount=True).\n"
          ],
          "name": "stdout"
        }
      ]
    },
    {
      "cell_type": "code",
      "metadata": {
        "id": "mHysDrl0M976"
      },
      "source": [
        "import pydot\n",
        "from collections import defaultdict \n",
        "from IPython.display import Image, display"
      ],
      "execution_count": 2,
      "outputs": []
    },
    {
      "cell_type": "code",
      "metadata": {
        "id": "M61IVLcZPfa5"
      },
      "source": [
        "def lstr(p):\n",
        "        return ''.join([str(elem)  for elem in p])"
      ],
      "execution_count": 3,
      "outputs": []
    },
    {
      "cell_type": "code",
      "metadata": {
        "id": "zE5EtNjxppM9"
      },
      "source": [
        "def ModifiedBFS_Item2(n): \n",
        "\n",
        "        # Default source node\n",
        "        s=[]\n",
        "        for i in range(n):\n",
        "          s.append(i+1)\n",
        "\n",
        "        # Create dictionaries graph,visited\n",
        "        visited = defaultdict()\n",
        "        connections = defaultdict(int)\n",
        "        \n",
        "        # Create a queue for BFS \n",
        "        queue = [] \n",
        "  \n",
        "        # Mark the source node as visited and enqueue it \n",
        "        queue.append(s) \n",
        "        visited[lstr(s)] = True\n",
        "        flag = True\n",
        "\n",
        "        while queue: \n",
        "\n",
        "            # Dequeue a vertex from queue \n",
        "            s = queue.pop(0) \n",
        "            \n",
        "            # Get all adjacent vertices of the \n",
        "            # dequeued vertex s. If a adjacent \n",
        "            # has not been visited, then mark it \n",
        "            # visited and enqueue it \n",
        "            for i in range(len(s)-1):\n",
        "              d = s[i+1::-1] + s[i+2:]  \n",
        "              if (d != s) and (connections[lstr(d)]<len(s)-1):\n",
        "                queue.append(d) \n",
        "                visited[lstr(d)] = True \n",
        "                connections[lstr(s)] = connections[lstr(s)]+1\n",
        "                connections[lstr(d)] = connections[lstr(d)]+1\n",
        "\n",
        "        # Find the least number of flips for each node:\n",
        "\n",
        "        # Reset dictionary visited and create distance,predecessor lists\n",
        "        visited = defaultdict()\n",
        "        distance=[]\n",
        "        predecessor=[]\n",
        "\n",
        "        # Sorted source node\n",
        "        s=[]\n",
        "        for i in range(n):\n",
        "          s.append(i+1)\n",
        "\n",
        "        # Create a queue for BFS \n",
        "        queue = [] \n",
        "  \n",
        "        # Mark the source node as visited and enqueue it \n",
        "        queue.append(s) \n",
        "        visited[lstr(s)] = True\n",
        "        countNodes=-1\n",
        "        biggestDistance=0\n",
        "        flagFirstNode = True\n",
        "\n",
        "        while queue: \n",
        "\n",
        "            # Dequeue a vertex from queue \n",
        "            s = queue.pop(0) \n",
        "            countNodes = countNodes+1\n",
        "\n",
        "            # Find distance between node s and sorted node\n",
        "            if flagFirstNode:\n",
        "              distance.append(0) # Temporal value\n",
        "              predecessor.append(0)\n",
        "              flagFirstNode=False\n",
        "            else:\n",
        "              distance[countNodes] = distance[predecessor[countNodes]]+1\n",
        "              biggestDistance=max(biggestDistance,distance[countNodes])\n",
        "            \n",
        "            # Get all adjacent vertices of the \n",
        "            # dequeued vertex s. If a adjacent \n",
        "            # has not been visited, then mark it \n",
        "            # visited and enqueue it \n",
        "            for i in range(len(s)-1):\n",
        "              d = s[i+1::-1] + s[i+2:]  \n",
        "              if (d != s) and not(lstr(d) in visited.keys()):\n",
        "                  queue.append(d) \n",
        "                  distance.append(0) # Temporal value\n",
        "                  predecessor.append(countNodes)\n",
        "                  visited[lstr(d)] = True \n",
        "                  \n",
        "        # Write Pn in Drive and print Pn in Colab\n",
        "        WriteOutputDrive(\"For n = \"+ str(n) + \", Pn = \" + str(biggestDistance) + \"\\n\")\n",
        "        print (\"For n = \"+ str(n) + \", Pn = \"+str(biggestDistance))"
      ],
      "execution_count": 4,
      "outputs": []
    },
    {
      "cell_type": "code",
      "metadata": {
        "id": "-2AgVZ4F4iz9"
      },
      "source": [
        "filepath = '/content/drive/My Drive/Colab Notebooks/Outputs/Lab8/Output_Item2.txt'\n",
        "\n",
        "def WriteOutputDrive(s):\n",
        "  text_file = open(filepath, 'r')\n",
        "  prev_lines = text_file.read()\n",
        "  text_file.close()\n",
        "\n",
        "  text_file = open(filepath, 'w')\n",
        "  output = prev_lines+s\n",
        "  text_file.write(output)\n",
        "  text_file.close() \n",
        "\n",
        "def ClearOutputDrive():\n",
        "  text_file = open(filepath, 'w')\n",
        "  text_file.write(\"\")\n",
        "  text_file.close() "
      ],
      "execution_count": 5,
      "outputs": []
    },
    {
      "cell_type": "code",
      "metadata": {
        "id": "s08DjHLMsRuY"
      },
      "source": [
        "ClearOutputDrive()"
      ],
      "execution_count": 6,
      "outputs": []
    },
    {
      "cell_type": "code",
      "metadata": {
        "id": "3sP7hFUq729J",
        "colab": {
          "base_uri": "https://localhost:8080/"
        },
        "outputId": "19a3e18f-753e-4861-c37d-c60478f56725"
      },
      "source": [
        "# Pn for n = 5,6,...\n",
        "n = 5\n",
        "while (True):\n",
        "  ModifiedBFS_Item2(n)\n",
        "  n = n + 1"
      ],
      "execution_count": null,
      "outputs": [
        {
          "output_type": "stream",
          "text": [
            "For n = 5, Pn = 5\n",
            "For n = 6, Pn = 7\n",
            "For n = 7, Pn = 8\n",
            "For n = 8, Pn = 9\n",
            "For n = 9, Pn = 10\n"
          ],
          "name": "stdout"
        }
      ]
    }
  ]
}